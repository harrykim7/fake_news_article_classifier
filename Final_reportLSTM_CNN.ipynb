{
 "cells": [
  {
   "cell_type": "code",
   "execution_count": 68,
   "metadata": {},
   "outputs": [],
   "source": [
    "import tensorflow\n",
    "import pandas as pd\n",
    "import numpy as np\n",
    "\n",
    "from sklearn.model_selection import train_test_split\n",
    "from sklearn.metrics import confusion_matrix,classification_report\n",
    "\n",
    "import tensorflow as tf\n",
    "from tensorflow.keras import Input, Model\n",
    "from tensorflow.keras.layers import Embedding,LSTM, Conv2D, Dense, MaxPool2D, Dropout, TimeDistributed ,concatenate , ZeroPadding2D , Flatten\n",
    "from tensorflow.keras.preprocessing.text import Tokenizer\n",
    "from tensorflow.keras.preprocessing.sequence import pad_sequences\n",
    "from tensorflow.keras.optimizers import Adam\n",
    "\n",
    "from tqdm import tqdm\n",
    "\n",
    "import matplotlib.pyplot as plt"
   ]
  },
  {
   "cell_type": "code",
   "execution_count": 6,
   "metadata": {},
   "outputs": [],
   "source": [
    "data = pd.read_csv(\"news_dataset_preprocessed_all.csv\")"
   ]
  },
  {
   "cell_type": "code",
   "execution_count": 10,
   "metadata": {},
   "outputs": [],
   "source": [
    "data = data[[\"title\",\"content\",\"label\"]]"
   ]
  },
  {
   "cell_type": "code",
   "execution_count": 14,
   "metadata": {},
   "outputs": [
    {
     "name": "stderr",
     "output_type": "stream",
     "text": [
      "c:\\users\\shini\\appdata\\local\\programs\\python\\python37\\lib\\site-packages\\ipykernel_launcher.py:1: SettingWithCopyWarning: \n",
      "A value is trying to be set on a copy of a slice from a DataFrame\n",
      "\n",
      "See the caveats in the documentation: http://pandas.pydata.org/pandas-docs/stable/indexing.html#indexing-view-versus-copy\n",
      "  \"\"\"Entry point for launching an IPython kernel.\n",
      "c:\\users\\shini\\appdata\\local\\programs\\python\\python37\\lib\\site-packages\\ipykernel_launcher.py:2: SettingWithCopyWarning: \n",
      "A value is trying to be set on a copy of a slice from a DataFrame\n",
      "\n",
      "See the caveats in the documentation: http://pandas.pydata.org/pandas-docs/stable/indexing.html#indexing-view-versus-copy\n",
      "  \n"
     ]
    }
   ],
   "source": [
    "data.loc[data['label'] == \"fake\", 'label'] = 0\n",
    "data.loc[data['label'] == \"real\", 'label'] = 1"
   ]
  },
  {
   "cell_type": "code",
   "execution_count": 16,
   "metadata": {},
   "outputs": [
    {
     "data": {
      "text/plain": [
       "<matplotlib.axes._subplots.AxesSubplot at 0x1db4b771390>"
      ]
     },
     "execution_count": 16,
     "metadata": {},
     "output_type": "execute_result"
    },
    {
     "data": {
      "image/png": "[encoded data removed]",
      "text/plain": [
       "<Figure size 432x288 with 1 Axes>"
      ]
     },
     "metadata": {
      "needs_background": "light"
     },
     "output_type": "display_data"
    }
   ],
   "source": [
    "data.label.hist()"
   ]
  },
  {
   "cell_type": "code",
   "execution_count": 21,
   "metadata": {},
   "outputs": [],
   "source": [
    "temp = data.copy()\n",
    "for i in range(len(temp)):\n",
    "    if len(temp.loc[i].content.split()) > 512:\n",
    "        temp.drop(i,inplace=True)\n"
   ]
  },
  {
   "cell_type": "code",
   "execution_count": 25,
   "metadata": {},
   "outputs": [],
   "source": [
    "temp = temp.reset_index()"
   ]
  },
  {
   "cell_type": "code",
   "execution_count": 28,
   "metadata": {},
   "outputs": [],
   "source": [
    "temp_title = 0\n",
    "for i in range(len(temp)):\n",
    "    if temp_title < len(str(temp.loc[i].title).split()):\n",
    "        temp_title = len(temp.loc[i].title.split())\n",
    "print(temp_title)"
   ]
  },
  {
   "cell_type": "code",
   "execution_count": 30,
   "metadata": {},
   "outputs": [],
   "source": [
    "#config for vocab\n",
    "vocab_size = 40000\n",
    "max_len_title = 64\n",
    "max_len_content = 512"
   ]
  },
  {
   "cell_type": "code",
   "execution_count": 36,
   "metadata": {},
   "outputs": [],
   "source": [
    "#train_test_split\n",
    "X = temp[[\"title\",\"content\"]].astype(str)\n",
    "y = temp[\"label\"]\n",
    "\n",
    "x_train, x_valid, y_train, y_valid = train_test_split(X, y, test_size=0.2)"
   ]
  },
  {
   "cell_type": "code",
   "execution_count": 39,
   "metadata": {},
   "outputs": [],
   "source": [
    "# build vocabulary from training set\n",
    "tokenizer = Tokenizer(num_words=vocab_size)\n",
    "tokenizer.fit_on_texts(x_train[\"title\"])\n",
    "tokenizer.fit_on_texts(x_train[\"content\"])"
   ]
  },
  {
   "cell_type": "code",
   "execution_count": 34,
   "metadata": {},
   "outputs": [],
   "source": [
    "#word to sequence and padding\n",
    "def _preprocess_title(list_of_text):\n",
    "    return pad_sequences(\n",
    "        tokenizer.texts_to_sequences(list_of_text),\n",
    "        maxlen=max_len_title,\n",
    "        padding='post',\n",
    "    )\n",
    "\n",
    "def _preprocess_content(list_of_text):\n",
    "    return pad_sequences(\n",
    "        tokenizer.texts_to_sequences(list_of_text),\n",
    "        maxlen=max_len_content,\n",
    "        padding='post',\n",
    "    )"
   ]
  },
  {
   "cell_type": "code",
   "execution_count": 42,
   "metadata": {},
   "outputs": [],
   "source": [
    "#process the training set\n",
    "x_train_title = _preprocess_title(x_train[\"title\"])\n",
    "x_train_content = _preprocess_content(x_train[\"content\"])"
   ]
  },
  {
   "cell_type": "code",
   "execution_count": 46,
   "metadata": {},
   "outputs": [],
   "source": [
    "#process the vaild(testing) set\n",
    "x_valid_title = _preprocess_title(x_valid[\"title\"])\n",
    "x_valid_content = _preprocess_content(x_valid[\"content\"])"
   ]
  },
  {
   "cell_type": "code",
   "execution_count": 77,
   "metadata": {},
   "outputs": [],
   "source": [
    "y_train = y_train.to_numpy()\n",
    "y_valid = y_valid.to_numpy()"
   ]
  },
  {
   "cell_type": "code",
   "execution_count": 84,
   "metadata": {},
   "outputs": [],
   "source": [
    "y_train = y_train.astype(\"int32\")\n",
    "y_valid = y_valid.astype(\"int32\")"
   ]
  },
  {
   "cell_type": "code",
   "execution_count": 65,
   "metadata": {},
   "outputs": [],
   "source": [
    "#model_building\n",
    "\n",
    "#input layers for title and content\n",
    "input_title = Input(batch_shape=(None, max_len_title))\n",
    "input_content = Input(batch_shape=(None, max_len_content))\n",
    "\n",
    "\n",
    "#shared embedding layer\n",
    "#shared_embedding = TimeDistributed(Embedding(tokenizer.num_words, 100))\n",
    "shared_embedding = Embedding(tokenizer.num_words, 100)\n",
    "\n",
    "#output of shared embedding layer\n",
    "title_vec = shared_embedding(input_title)\n",
    "content_vec = shared_embedding(input_content)\n",
    "\n",
    "#lstm layers\n",
    "lstm_title = tf.expand_dims(LSTM(100,dropout=0.2,recurrent_dropout=0.2,return_sequences=True)(title_vec),-1)\n",
    "lstm_content = tf.expand_dims(LSTM(100,dropout=0.2,recurrent_dropout=0.2,return_sequences=True)(content_vec),-1)\n",
    "\n",
    "#cnn layers\n",
    "padding = ZeroPadding2D(((1, 0), (0, 1)))\n",
    "\n",
    "CNN_title_3 = Conv2D(100,(3,3))(lstm_title)\n",
    "CNN_title_4 = Conv2D(100,(4,4))(lstm_title)\n",
    "CNN_title_5 = Conv2D(100,(5,5))(lstm_title)\n",
    "pooling_title_3 = MaxPool2D(pool_size=(2, 2))(CNN_title_3)\n",
    "pooling_title_4 = MaxPool2D(pool_size=(2, 2))(CNN_title_4)\n",
    "pooling_title_5 = MaxPool2D(pool_size=(2, 2))(CNN_title_5)\n",
    "pooling_title_4 = padding(pooling_title_4)\n",
    "pooling_title_5 = padding(pooling_title_5)\n",
    "\n",
    "\n",
    "CNN_content_3 = Conv2D(100,(3,3))(lstm_content)\n",
    "CNN_content_4 = Conv2D(100,(4,4))(lstm_content)\n",
    "CNN_content_5 = Conv2D(100,(5,5))(lstm_content)\n",
    "pooling_content_3 = MaxPool2D(pool_size=(2, 2))(CNN_content_3)\n",
    "pooling_content_4 = MaxPool2D(pool_size=(2, 2))(CNN_content_4)\n",
    "pooling_content_5 = MaxPool2D(pool_size=(2, 2))(CNN_content_5)\n",
    "pooling_content_4 = padding(pooling_content_4)\n",
    "pooling_content_5 = padding(pooling_content_5)\n",
    "\n",
    "\n",
    "CNN_out_title = concatenate([pooling_title_3, pooling_title_4,pooling_title_5])\n",
    "CNN_out_content = concatenate([pooling_content_3,pooling_content_4,pooling_content_5])\n",
    "\n",
    "CNN_out_title = Flatten()(CNN_out_title)\n",
    "CNN_out_content = Flatten()(CNN_out_content)\n",
    "\n",
    "#Dense layers\n",
    "dense1_title = Dense(128,activation=\"relu\")(CNN_out_title)\n",
    "dense1_content = Dense(128,activation=\"relu\")(CNN_out_content)\n",
    "dense1 = concatenate([dense1_title, dense1_content])\n",
    "\n",
    "dense2 = Dense(32,activation=\"relu\")(dense1)\n",
    "\n",
    "out = Dense(1,activation=\"sigmoid\")(dense2)\n",
    "\n",
    "model = Model(inputs=[input_title, input_content], outputs=out)"
   ]
  },
  {
   "cell_type": "code",
   "execution_count": 66,
   "metadata": {
    "collapsed": true,
    "jupyter": {
     "outputs_hidden": true
    }
   },
   "outputs": [
    {
     "name": "stdout",
     "output_type": "stream",
     "text": [
      "Model: \"functional_1\"\n",
      "__________________________________________________________________________________________________\n",
      "Layer (type)                    Output Shape         Param #     Connected to                     \n",
      "==================================================================================================\n",
      "input_19 (InputLayer)           [(None, 64)]         0                                            \n",
      "__________________________________________________________________________________________________\n",
      "input_20 (InputLayer)           [(None, 512)]        0                                            \n",
      "__________________________________________________________________________________________________\n",
      "embedding_8 (Embedding)         multiple             4000000     input_19[0][0]                   \n",
      "                                                                 input_20[0][0]                   \n",
      "__________________________________________________________________________________________________\n",
      "lstm_16 (LSTM)                  (None, 64, 100)      80400       embedding_8[0][0]                \n",
      "__________________________________________________________________________________________________\n",
      "lstm_17 (LSTM)                  (None, 512, 100)     80400       embedding_8[1][0]                \n",
      "__________________________________________________________________________________________________\n",
      "tf_op_layer_ExpandDims_14 (Tens [(None, 64, 100, 1)] 0           lstm_16[0][0]                    \n",
      "__________________________________________________________________________________________________\n",
      "tf_op_layer_ExpandDims_15 (Tens [(None, 512, 100, 1) 0           lstm_17[0][0]                    \n",
      "__________________________________________________________________________________________________\n",
      "conv2d_41 (Conv2D)              (None, 61, 97, 100)  1700        tf_op_layer_ExpandDims_14[0][0]  \n",
      "__________________________________________________________________________________________________\n",
      "conv2d_42 (Conv2D)              (None, 60, 96, 100)  2600        tf_op_layer_ExpandDims_14[0][0]  \n",
      "__________________________________________________________________________________________________\n",
      "conv2d_44 (Conv2D)              (None, 509, 97, 100) 1700        tf_op_layer_ExpandDims_15[0][0]  \n",
      "__________________________________________________________________________________________________\n",
      "conv2d_45 (Conv2D)              (None, 508, 96, 100) 2600        tf_op_layer_ExpandDims_15[0][0]  \n",
      "__________________________________________________________________________________________________\n",
      "conv2d_40 (Conv2D)              (None, 62, 98, 100)  1000        tf_op_layer_ExpandDims_14[0][0]  \n",
      "__________________________________________________________________________________________________\n",
      "max_pooling2d_37 (MaxPooling2D) (None, 30, 48, 100)  0           conv2d_41[0][0]                  \n",
      "__________________________________________________________________________________________________\n",
      "max_pooling2d_38 (MaxPooling2D) (None, 30, 48, 100)  0           conv2d_42[0][0]                  \n",
      "__________________________________________________________________________________________________\n",
      "conv2d_43 (Conv2D)              (None, 510, 98, 100) 1000        tf_op_layer_ExpandDims_15[0][0]  \n",
      "__________________________________________________________________________________________________\n",
      "max_pooling2d_40 (MaxPooling2D) (None, 254, 48, 100) 0           conv2d_44[0][0]                  \n",
      "__________________________________________________________________________________________________\n",
      "max_pooling2d_41 (MaxPooling2D) (None, 254, 48, 100) 0           conv2d_45[0][0]                  \n",
      "__________________________________________________________________________________________________\n",
      "max_pooling2d_36 (MaxPooling2D) (None, 31, 49, 100)  0           conv2d_40[0][0]                  \n",
      "__________________________________________________________________________________________________\n",
      "zero_padding2d_2 (ZeroPadding2D multiple             0           max_pooling2d_37[0][0]           \n",
      "                                                                 max_pooling2d_38[0][0]           \n",
      "                                                                 max_pooling2d_40[0][0]           \n",
      "                                                                 max_pooling2d_41[0][0]           \n",
      "__________________________________________________________________________________________________\n",
      "max_pooling2d_39 (MaxPooling2D) (None, 255, 49, 100) 0           conv2d_43[0][0]                  \n",
      "__________________________________________________________________________________________________\n",
      "concatenate_4 (Concatenate)     (None, 31, 49, 300)  0           max_pooling2d_36[0][0]           \n",
      "                                                                 zero_padding2d_2[0][0]           \n",
      "                                                                 zero_padding2d_2[1][0]           \n",
      "__________________________________________________________________________________________________\n",
      "concatenate_5 (Concatenate)     (None, 255, 49, 300) 0           max_pooling2d_39[0][0]           \n",
      "                                                                 zero_padding2d_2[2][0]           \n",
      "                                                                 zero_padding2d_2[3][0]           \n",
      "__________________________________________________________________________________________________\n",
      "flatten (Flatten)               (None, 455700)       0           concatenate_4[0][0]              \n",
      "__________________________________________________________________________________________________\n",
      "flatten_1 (Flatten)             (None, 3748500)      0           concatenate_5[0][0]              \n",
      "__________________________________________________________________________________________________\n",
      "dense (Dense)                   (None, 128)          58329728    flatten[0][0]                    \n",
      "__________________________________________________________________________________________________\n",
      "dense_1 (Dense)                 (None, 128)          479808128   flatten_1[0][0]                  \n",
      "__________________________________________________________________________________________________\n",
      "concatenate_6 (Concatenate)     (None, 256)          0           dense[0][0]                      \n",
      "                                                                 dense_1[0][0]                    \n",
      "__________________________________________________________________________________________________\n",
      "dense_2 (Dense)                 (None, 32)           8224        concatenate_6[0][0]              \n",
      "__________________________________________________________________________________________________\n",
      "dense_3 (Dense)                 (None, 1)            33          dense_2[0][0]                    \n",
      "==================================================================================================\n",
      "Total params: 542,317,513\n",
      "Trainable params: 542,317,513\n",
      "Non-trainable params: 0\n",
      "__________________________________________________________________________________________________\n"
     ]
    }
   ],
   "source": [
    "model.summary()"
   ]
  },
  {
   "cell_type": "code",
   "execution_count": 69,
   "metadata": {},
   "outputs": [],
   "source": [
    "model.compile(\n",
    "        optimizer=Adam(),\n",
    "        loss='binary_crossentropy',\n",
    "        metrics=['accuracy', 'AUC']\n",
    ")"
   ]
  },
  {
   "cell_type": "code",
   "execution_count": 86,
   "metadata": {},
   "outputs": [
    {
     "name": "stdout",
     "output_type": "stream",
     "text": [
      "Epoch 1/5\n",
      "236/236 [==============================] - 2062s 9s/step - loss: 0.4192 - accuracy: 0.8484 - auc: 0.9215 - val_loss: 0.2168 - val_accuracy: 0.9184 - val_auc: 0.9833\n",
      "Epoch 2/5\n",
      "236/236 [==============================] - 2101s 9s/step - loss: 0.0780 - accuracy: 0.9722 - auc: 0.9957 - val_loss: 0.1897 - val_accuracy: 0.9372 - val_auc: 0.9834\n",
      "Epoch 3/5\n",
      "236/236 [==============================] - 2260s 10s/step - loss: 0.0248 - accuracy: 0.9915 - auc: 0.9993 - val_loss: 0.2533 - val_accuracy: 0.9356 - val_auc: 0.9744\n",
      "Epoch 4/5\n",
      "236/236 [==============================] - 2277s 10s/step - loss: 0.0098 - accuracy: 0.9970 - auc: 0.9999 - val_loss: 0.3429 - val_accuracy: 0.9317 - val_auc: 0.9676\n",
      "Epoch 5/5\n",
      "236/236 [==============================] - 2257s 10s/step - loss: 0.0129 - accuracy: 0.9964 - auc: 0.9995 - val_loss: 0.2475 - val_accuracy: 0.9407 - val_auc: 0.9766\n"
     ]
    }
   ],
   "source": [
    "history = model.fit([x_train_title,x_train_content],\n",
    "                    y_train,\n",
    "                    epochs=5,\n",
    "                    batch_size=64,\n",
    "                    validation_data=([x_valid_title,x_valid_content], y_valid),\n",
    "                    verbose=1)"
   ]
  },
  {
   "cell_type": "code",
   "execution_count": 87,
   "metadata": {},
   "outputs": [],
   "source": [
    "model.save_weights(\"500m_param_model_first_version\")"
   ]
  },
  {
   "cell_type": "code",
   "execution_count": 88,
   "metadata": {},
   "outputs": [],
   "source": [
    "def show_loss(history):\n",
    "    plt.plot(history.history['loss'],label='loss')\n",
    "    plt.plot(history.history['val_loss'],label='val_loss')\n",
    "    plt.xlabel('Epoch')\n",
    "    plt.ylabel('Loss')\n",
    "    plt.legend()\n",
    "    plt.show()"
   ]
  },
  {
   "cell_type": "code",
   "execution_count": 93,
   "metadata": {},
   "outputs": [],
   "source": [
    "def show_accuracy(history):\n",
    "    plt.plot(history.history['accuracy'],label='accuracy')\n",
    "    plt.plot(history.history['val_accuracy'],label='val_accuracy')\n",
    "    plt.xlabel('Epoch')\n",
    "    plt.ylabel('Accuracy')\n",
    "    plt.ylim([0.1,1])\n",
    "    plt.legend()\n",
    "    plt.show()"
   ]
  },
  {
   "cell_type": "code",
   "execution_count": 90,
   "metadata": {},
   "outputs": [],
   "source": [
    "def show_AUC(history):\n",
    "    plt.plot(history.history['auc'],label='auc')\n",
    "    plt.plot(history.history['val_auc'],label='val_auc')\n",
    "    plt.xlabel('Epoch')\n",
    "    plt.ylabel('Auc')\n",
    "    plt.ylim([0.1,1])\n",
    "    plt.legend()\n",
    "    plt.show()"
   ]
  },
  {
   "cell_type": "code",
   "execution_count": 94,
   "metadata": {},
   "outputs": [
    {
     "data": {
      "image/png": "[encoded data removed]",
      "text/plain": [
       "<Figure size 432x288 with 1 Axes>"
      ]
     },
     "metadata": {
      "needs_background": "light"
     },
     "output_type": "display_data"
    },
    {
     "data": {
      "image/png": "[encoded data removed]",
      "text/plain": [
       "<Figure size 432x288 with 1 Axes>"
      ]
     },
     "metadata": {
      "needs_background": "light"
     },
     "output_type": "display_data"
    },
    {
     "data": {
      "image/png": "[encoded data removed]",
      "text/plain": [
       "<Figure size 432x288 with 1 Axes>"
      ]
     },
     "metadata": {
      "needs_background": "light"
     },
     "output_type": "display_data"
    }
   ],
   "source": [
    "#plot the training performance\n",
    "show_loss(history)\n",
    "show_accuracy(history)\n",
    "show_AUC(history)"
   ]
  },
  {
   "cell_type": "code",
   "execution_count": 96,
   "metadata": {},
   "outputs": [
    {
     "name": "stdout",
     "output_type": "stream",
     "text": [
      "[[1718  119]\n",
      " [ 105 1833]]\n",
      "              precision    recall  f1-score   support\n",
      "\n",
      "           0       0.94      0.94      0.94      1837\n",
      "           1       0.94      0.95      0.94      1938\n",
      "\n",
      "    accuracy                           0.94      3775\n",
      "   macro avg       0.94      0.94      0.94      3775\n",
      "weighted avg       0.94      0.94      0.94      3775\n",
      "\n"
     ]
    }
   ],
   "source": [
    "#confusion matrix and report things\n",
    "y_pred = model.predict([x_valid_title,x_valid_content])\n",
    "y_pred = np.array([1 if y >= 0.5 else 0 for y in y_pred])\n",
    "print(confusion_matrix(y_valid,y_pred))\n",
    "print(classification_report(y_valid,y_pred))"
   ]
  },
  {
   "cell_type": "code",
   "execution_count": null,
   "metadata": {},
   "outputs": [],
   "source": []
  }
 ],
 "metadata": {
  "kernelspec": {
   "display_name": "Python 3",
   "language": "python",
   "name": "python3"
  },
  "language_info": {
   "codemirror_mode": {
    "name": "ipython",
    "version": 3
   },
   "file_extension": ".py",
   "mimetype": "text/x-python",
   "name": "python",
   "nbconvert_exporter": "python",
   "pygments_lexer": "ipython3",
   "version": "3.7.3"
  }
 },
 "nbformat": 4,
 "nbformat_minor": 4
}
